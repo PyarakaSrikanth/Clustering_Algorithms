{
 "cells": [
  {
   "cell_type": "code",
   "execution_count": 89,
   "metadata": {},
   "outputs": [],
   "source": [
    "# Import skope-rules\n",
    "from skrules import SkopeRules\n",
    "\n",
    "# Import librairies\n",
    "import pandas as pd\n",
    "from sklearn.cluster import AgglomerativeClustering\n",
    "import warnings\n",
    "\n",
    "#\n",
    "warnings.filterwarnings('ignore')\n",
    "data = pd.read_csv('../CompleteDataset.csv')"
   ]
  },
  {
   "cell_type": "code",
   "execution_count": 90,
   "metadata": {},
   "outputs": [
    {
     "data": {
      "text/plain": [
       "Index(['Acceleration', 'Aggression', 'Agility', 'Balance', 'Ball_control',\n",
       "       'Composure', 'Crossing', 'Curve', 'Dribbling', 'Finishing',\n",
       "       'Free_kick_accuracy', 'GK_diving', 'GK_handling', 'GK_kicking',\n",
       "       'GK_positioning', 'GK_reflexes', 'Heading_accuracy', 'CAM CM ',\n",
       "       'CAM LW ', 'CB ', 'CDM ', 'CDM CAM CM ', 'CDM CB ', 'CDM CM ', 'CM ',\n",
       "       'CM CB LB ', 'CM CDM ', 'GK ', 'LB ', 'LB RB CB ', 'LM CM ',\n",
       "       'LM CM CAM ', 'LM LB ', 'LM RM CAM ', 'LM RM CAM CM ', 'LM RW RM ',\n",
       "       'LW ', 'LW LM ', 'LW RW ', 'LW RW ST ', 'LW ST LM ', 'RM CM CAM ',\n",
       "       'RM LM ', 'RM LW ST LM ', 'RW ', 'RW CAM ', 'RW RM ', 'ST ', 'ST CAM ',\n",
       "       'ST CAM RW CF ', 'ST LW ', 'ST LW CF '],\n",
       "      dtype='object')"
      ]
     },
     "execution_count": 90,
     "metadata": {},
     "output_type": "execute_result"
    }
   ],
   "source": [
    "X_train.columns"
   ]
  },
  {
   "cell_type": "code",
   "execution_count": 91,
   "metadata": {},
   "outputs": [],
   "source": [
    "data = data.query(\"Overall>=85\") # Select players with an overall attribute larger than 85/100.\n",
    "\n",
    "column_to_keep = ['Name', 'Acceleration', 'Aggression', 'Agility', 'Balance', 'Ball control',\n",
    "       'Composure', 'Crossing', 'Curve', 'Dribbling', 'Finishing',\n",
    "       'Free kick accuracy', 'GK diving', 'GK handling', 'GK kicking',\n",
    "       'GK positioning', 'GK reflexes', 'Heading accuracy', 'Preferred Positions']\n",
    "data = data[column_to_keep] # Keep only performance attributes and names.\n",
    "data = pd.concat([data,pd.get_dummies(data['Preferred Positions'],drop_first=True)],axis=1)\n",
    "data.columns = [x.replace(' ', '_') for x in data.columns] # Replace white spaces in the column names\n",
    "\n",
    "feature_names = data.drop(['Name','Preferred_Positions'], axis=1).columns.tolist()"
   ]
  },
  {
   "cell_type": "code",
   "execution_count": 74,
   "metadata": {},
   "outputs": [],
   "source": [
    "data = pd.concat([data,pd.get_dummies(data['Preferred_Positions'],drop_first=True)],axis=1)"
   ]
  },
  {
   "cell_type": "code",
   "execution_count": 40,
   "metadata": {},
   "outputs": [],
   "source": [
    "from sklearn.preprocessing import LabelEncoder"
   ]
  },
  {
   "cell_type": "code",
   "execution_count": 41,
   "metadata": {},
   "outputs": [],
   "source": [
    "number = LabelEncoder()\n",
    "data['Preferred_Positions']= number.fit_transform(data['Preferred_Positions'].astype('str'))"
   ]
  },
  {
   "cell_type": "code",
   "execution_count": 93,
   "metadata": {},
   "outputs": [],
   "source": [
    "clust = AgglomerativeClustering(n_clusters=4) #with euclidian distance and ward linkage\n",
    "\n",
    "data['cluster'] = clust.fit_predict(data.drop(['Name','Preferred_Positions'], axis=1))"
   ]
  },
  {
   "cell_type": "code",
   "execution_count": 94,
   "metadata": {},
   "outputs": [
    {
     "data": {
      "text/plain": [
       "Index(['Name', 'Acceleration', 'Aggression', 'Agility', 'Balance',\n",
       "       'Ball_control', 'Composure', 'Crossing', 'Curve', 'Dribbling',\n",
       "       'Finishing', 'Free_kick_accuracy', 'GK_diving', 'GK_handling',\n",
       "       'GK_kicking', 'GK_positioning', 'GK_reflexes', 'Heading_accuracy',\n",
       "       'Preferred_Positions', 'CAM_CM_', 'CAM_LW_', 'CB_', 'CDM_',\n",
       "       'CDM_CAM_CM_', 'CDM_CB_', 'CDM_CM_', 'CM_', 'CM_CB_LB_', 'CM_CDM_',\n",
       "       'GK_', 'LB_', 'LB_RB_CB_', 'LM_CM_', 'LM_CM_CAM_', 'LM_LB_',\n",
       "       'LM_RM_CAM_', 'LM_RM_CAM_CM_', 'LM_RW_RM_', 'LW_', 'LW_LM_', 'LW_RW_',\n",
       "       'LW_RW_ST_', 'LW_ST_LM_', 'RM_CM_CAM_', 'RM_LM_', 'RM_LW_ST_LM_', 'RW_',\n",
       "       'RW_CAM_', 'RW_RM_', 'ST_', 'ST_CAM_', 'ST_CAM_RW_CF_', 'ST_LW_',\n",
       "       'ST_LW_CF_', 'cluster'],\n",
       "      dtype='object')"
      ]
     },
     "execution_count": 94,
     "metadata": {},
     "output_type": "execute_result"
    }
   ],
   "source": [
    "data.columns"
   ]
  },
  {
   "cell_type": "code",
   "execution_count": 83,
   "metadata": {},
   "outputs": [
    {
     "data": {
      "text/plain": [
       "range(0, 4)"
      ]
     },
     "execution_count": 83,
     "metadata": {},
     "output_type": "execute_result"
    }
   ],
   "source": []
  },
  {
   "cell_type": "code",
   "execution_count": 95,
   "metadata": {},
   "outputs": [
    {
     "name": "stdout",
     "output_type": "stream",
     "text": [
      "Cluster 0:\n",
      "[('Agility <= 81.5 and Free_kick_accuracy > 56.0 and Heading_accuracy > 58.5', (0.9354838709677419, 0.8529411764705882, 10))]\n",
      "Cluster 1:\n",
      "[('Aggression <= 76.5 and Agility > 81.5 and ST_LW_ <= 0.5', (1.0, 0.7741935483870968, 2))]\n",
      "Cluster 2:\n",
      "[('CB_ > 0.5 and Free_kick_accuracy <= 64.0', (1.0, 0.9285714285714286, 10))]\n",
      "Cluster 3:\n",
      "[('GK_reflexes > 59.0', (1.0, 1.0, 2))]\n"
     ]
    }
   ],
   "source": [
    "warnings.filterwarnings('ignore') #To deals with warning raised by max_samples=1 (see below).\n",
    "#With max_samples=1, there is no Out-Of-Bag sample to evaluate performance (it is evaluated on all samples. \n",
    "#As there are less than 100 samples and this is a clustering-oriented task, the risk of overfitting is not \n",
    "#dramatic here.\n",
    "\n",
    "i_cluster = 0\n",
    "for i_cluster in range(4):\n",
    "    X_train = data.drop(['Name','Preferred_Positions','cluster'], axis=1)\n",
    "    y_train = (data['cluster']==i_cluster)*1\n",
    "    skope_rules_clf = SkopeRules(feature_names=feature_names, random_state=42, n_estimators=5,\n",
    "                                   recall_min=0.5, precision_min=0.5, max_depth_duplication=0,\n",
    "                                   max_samples=1., max_depth=3)\n",
    "    skope_rules_clf.fit(X_train, y_train)\n",
    "    print('Cluster '+str(i_cluster)+':')\n",
    "    #print(data.query('cluster=='+str(i_cluster))[['Name', 'Preferred_Positions']])\n",
    "    print(skope_rules_clf.rules_)"
   ]
  },
  {
   "cell_type": "code",
   "execution_count": 96,
   "metadata": {},
   "outputs": [
    {
     "name": "stdout",
     "output_type": "stream",
     "text": [
      "5 players from cluster 0:\n",
      "['M. Hamšík', 'Alex Sandro', 'Casemiro', 'K. Benzema', 'Z. Ibrahimović']\n",
      "\n",
      "5 players from cluster 1:\n",
      "['H. Mkhitaryan', 'David Silva', 'F. Ribéry', 'J. Rodríguez', 'P. Dybala']\n",
      "\n",
      "5 players from cluster 2:\n",
      "['Pepe', 'K. Glik', 'G. Chiellini', 'V. Kompany', 'Piqué']\n",
      "\n",
      "5 players from cluster 3:\n",
      "['M. ter Stegen', 'D. Subašić', 'M. Neuer', 'K. Navas', 'H. Lloris']\n",
      "\n"
     ]
    }
   ],
   "source": [
    "for i_cluster in range(4):\n",
    "    print('5 players from cluster '+str(i_cluster)+':')\n",
    "    print(data.query(\"cluster==\"+str(i_cluster))['Name'].sample(5, random_state=42).tolist()) # Get 5 random players per cluster\n",
    "    print()"
   ]
  },
  {
   "cell_type": "code",
   "execution_count": null,
   "metadata": {},
   "outputs": [],
   "source": []
  }
 ],
 "metadata": {
  "kernelspec": {
   "display_name": "Python 3",
   "language": "python",
   "name": "python3"
  },
  "language_info": {
   "codemirror_mode": {
    "name": "ipython",
    "version": 3
   },
   "file_extension": ".py",
   "mimetype": "text/x-python",
   "name": "python",
   "nbconvert_exporter": "python",
   "pygments_lexer": "ipython3",
   "version": "3.7.0"
  }
 },
 "nbformat": 4,
 "nbformat_minor": 2
}
